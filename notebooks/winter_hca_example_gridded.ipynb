{
 "cells": [
  {
   "cell_type": "markdown",
   "metadata": {},
   "source": [
    "# This is an example notebook for running the CSU_Radartools hydrometeor identificaiton on gridded netcdf files"
   ]
  },
  {
   "cell_type": "markdown",
   "metadata": {},
   "source": [
    "## Brenda Dolan, October 2020"
   ]
  },
  {
   "cell_type": "code",
   "execution_count": 1,
   "metadata": {},
   "outputs": [],
   "source": [
    "import numpy as np\n",
    "import matplotlib.pyplot as plt\n",
    "\n",
    "from netCDF4 import Dataset\n",
    "\n",
    "\n",
    "import matplotlib.colors as colors\n",
    "\n",
    "from skewPy import SkewT\n",
    "from pathlib import Path\n",
    "\n",
    "#from CSU_RadarTools import csu_radartools\n",
    "from CSU_RadarTools.csu_radartools import csu_fhc\n",
    "\n",
    "%matplotlib inline\n",
    "\n"
   ]
  },
  {
   "cell_type": "markdown",
   "metadata": {},
   "source": [
    "# These are some helper functions"
   ]
  },
  {
   "cell_type": "code",
   "execution_count": 2,
   "metadata": {},
   "outputs": [],
   "source": [
    "## setup the summre colors.\n",
    "hid_colors =  ['White','LightBlue','MediumBlue','Darkorange','LightPink','Cyan','DarkGray',\\\n",
    "            'Lime','Yellow','Red','Fuchsia']\n",
    "cmaphid = colors.ListedColormap(hid_colors)\n",
    "\n",
    "labelhid=['Drizzle','Rain', 'IC', 'AG', 'WS',\n",
    "                           'VI', 'LDG','HDG','HA','BD']\n",
    "\n",
    "\n",
    "\n",
    "##Setup the winter colors.\n",
    "\n",
    "hid_colors_winter = ['White','Orange', 'Purple', 'Fuchsia', 'Pink', 'Cyan',\n",
    "              'LightBlue', 'Blue']#, 'Lime', 'Yellow', 'Red', 'Fuchsia']\n",
    "cmaphidwinter = colors.ListedColormap(hid_colors_winter)\n",
    "\n",
    "\n",
    "labelhca=['IC','Plates', 'Dendrites', 'Aggregates', 'Wet Snow',\n",
    "                           'LightRain', 'Rain']\n",
    "\n",
    "\n",
    "def interpolate_sounding_to_grid(sounding, radar_z, dz):\n",
    "    \"\"\"Takes sounding data and interpolates it to every radar gate.\"\"\"\n",
    "    #radar_z = get_z_from_radar(radar)\n",
    "    radar_T = None\n",
    "    snd_T, snd_z = check_sounding_for_montonic(sounding)\n",
    "    #print (snd_z)\n",
    "    whgd = np.where(np.logical_and(np.array(snd_T)>-99,np.array(snd_z)>0.))\n",
    "    shape = np.shape(dz)\n",
    "#    print 'Shape: ',shape\n",
    "    rad_z1d = radar_z*1000.\n",
    "    rad_T1c = np.interp(rad_z1d, snd_z[whgd], snd_T[whgd])\n",
    "    #print(snd_z,snd_T)\n",
    "    tfixed=np.zeros(dz.shape)\n",
    "    zfixed=np.zeros(dz.shape)\n",
    "    for i in range(len(radar_z)):\n",
    "        tfixed[i,:,:] = rad_T1c[i]\n",
    "        zfixed[i,:,:] = rad_z1d[i]\n",
    "\n",
    "    return tfixed, zfixed\n",
    "\n",
    "def check_sounding_for_montonic(sounding):\n",
    "    \"\"\"\n",
    "    So the sounding interpolation doesn't fail, force the sounding to behave\n",
    "    monotonically so that z always increases. This eliminates data from\n",
    "    descending balloons.\n",
    "    \"\"\"\n",
    "    snd_T = sounding['temp']  # In old SkewT, was sounding.data\n",
    "    snd_z = sounding['hght']  # In old SkewT, was sounding.data\n",
    "    dummy_z = []\n",
    "    dummy_T = []\n",
    "    #print(snd_T.mask)\n",
    "    if not snd_T.mask.all(): #May cause issue for specific soundings\n",
    "        dummy_z.append(snd_z[0])\n",
    "        dummy_T.append(snd_T[0])\n",
    "        for i, height in enumerate(snd_z):\n",
    "            if i > 0:\n",
    "                if snd_z[i] > snd_z[i-1] and not snd_T.mask[i]:\n",
    "                    if np.isfinite(snd_z[i]) and np.isfinite(snd_T[i]):\n",
    "                        #print(snd_T[i])\n",
    "                        dummy_z.append(snd_z[i])\n",
    "                        dummy_T.append(snd_T[i])\n",
    "        snd_z = np.array(dummy_z)\n",
    "        snd_T = np.array(dummy_T)\n",
    "    else:\n",
    "        print('uh-oh. sounding problem')\n",
    "    return snd_T, snd_z\n",
    "\n",
    "\n"
   ]
  },
  {
   "cell_type": "markdown",
   "metadata": {},
   "source": [
    "### Read in the data"
   ]
  },
  {
   "cell_type": "code",
   "execution_count": 3,
   "metadata": {},
   "outputs": [],
   "source": [
    "radardata = Dataset('/andes2/bdolan/OLYMPEX_NPOL_BLOCK/test/ppi_gridded/20151205/oly_npol_cart20151205_152002.nc')"
   ]
  },
  {
   "cell_type": "code",
   "execution_count": 4,
   "metadata": {},
   "outputs": [],
   "source": [
    "###all of the HIDs will be improved by including temperature data. This is not required, but\n",
    "###definitely helps. The temperature just has to be the same shape / size as the radar data.\n",
    "\n",
    "#I am going to read in a sounding and interpolate it to the radar gates. You could also use\n",
    "#reanalysis data, or a assumed temperature profile.\n",
    "\n",
    "##The HCA \"winter HID\" does better if there is an expected melting layer to determine how far\n",
    "##the polarimetrically identified ML deviates from the assumed profile.\n",
    "\n",
    "sounding = SkewT.Sounding('/andes1/olympex/OLYMPEX_NPOL/QUIL_SOUNDINGS/20151117_12z_QUIL.txt')\n",
    "wh0 = np.where(np.isclose(np.abs(sounding['temp']),0.0,atol=1.0))\n",
    "expected_ML = np.array(sounding['hght'])[wh0[0]][0]/1000.\n",
    "\n",
    "z = radardata['z0'][:]\n",
    "dz =np.squeeze(radardata['CZ'][:])\n",
    "\n",
    "\n",
    "####Interpolate the sounding to the radar heights\n",
    "radar_T, radar_z = interpolate_sounding_to_grid(sounding,z,dz)"
   ]
  },
  {
   "cell_type": "code",
   "execution_count": 5,
   "metadata": {},
   "outputs": [
    {
     "data": {
      "text/plain": [
       "(17, 301, 301)"
      ]
     },
     "execution_count": 5,
     "metadata": {},
     "output_type": "execute_result"
    }
   ],
   "source": [
    "np.shape(radar_z)"
   ]
  },
  {
   "cell_type": "code",
   "execution_count": null,
   "metadata": {},
   "outputs": [],
   "source": []
  },
  {
   "cell_type": "markdown",
   "metadata": {},
   "source": [
    "# HCA \"winter\"\n",
    "Thompson, E. J., Rutledge, S. A., Dolan, B., Chandrasekar, V., & Cheong, B. L. (2014). A dual-polarization radar hydrometeor classification algorithm for winter precipitation. Journal of Atmospheric and Oceanic Technology, 31(7), 1457-1481.\n",
    "\n",
    "#### Cateories:\n",
    "#### 0  = Unclassified\n",
    "#### 1  = Ice Crystals\n",
    "#### 2  = Plates\n",
    "#### 3  = Dendrites\n",
    "#### 4  = Aggregates\n",
    "#### 5  = Wet Snow\n",
    "#### 6  = Frozen precip\n",
    "#### 7  = Rain\n"
   ]
  },
  {
   "cell_type": "code",
   "execution_count": null,
   "metadata": {},
   "outputs": [],
   "source": [
    "##The winter algorithm relies heavliy on Zdr, Kdp, and Rhohv so including these is critical.\n",
    "##The radar heights should be in km, as should the expected melting layer.\n",
    "#We also need the radar scan type (ppi or rhi) to determien the best way to find the bright band.\n",
    "\n",
    "#setup some things needed by the HCA. You can also pass these directly in but I've listed them\n",
    "#out here for clarity.\n",
    "rband = 'S'                 #Radar band -- critical for selecting the approproate beta functions\n",
    "use_temp = True             #use the temperature\n",
    "verbose = False             #Do not print out verbose \n",
    "minRH = 0.5                 #Since RH is so important for ML detection, there is a minimum rho \n",
    "                            #threshold for good data\n",
    "rheights = radar_z/1000.    #radar heights should be in km.\n",
    "\n",
    "return_scores = False      #For certain things, like testing the relative scoring for 2nd place\n",
    "                            #categories, you might want to return the whole score matrix, including\n",
    "                            #for each of the intermediate fuzzy logic steps such as the melting level\n",
    "                            #scoring. Otherwise it will just return the highest ranking category.\n",
    "\n",
    "#If signal to noise ratio is available, the results of the classification \n",
    "#will be improved \n",
    "\n",
    "##For the gridded version, there are no azimuths. So it is easier to run the RHI version of the melting layer algorithm\n",
    "\n",
    "scan_type = 'grid' #rhi, ppi, or grid determines how the melting layer identification will be done. It gets a little weird\n",
    "                    #for gridded data. Right now the ice species are used at the melting layer height with the wet snow.\n",
    "\n",
    "\n",
    "\n",
    "#Radar variables. These should be just the data (not an object), and masked arrays\n",
    "dz = np.squeeze(np.ma.masked_array(radardata['CZ'][:]))\n",
    "dr = np.squeeze(np.ma.masked_array(radardata['CR'][:]))\n",
    "kd = np.squeeze(np.ma.masked_array(radardata['KD'][:]))\n",
    "rh = np.squeeze(np.ma.masked_array(radardata['RH'][:]))\n",
    "\n",
    "\n",
    "\n",
    "hcawinter = csu_fhc.run_winter(dz=dz,zdr=dr,kdp=kd,rho=rh,\n",
    "                              expected_ML=expected_ML,sn=None,T=radar_T,heights=rheights,\n",
    "                              scan_type = scan_type,verbose=verbose,use_temp = use_temp,\n",
    "                              band=rband, return_scores=return_scores)\n",
    "\n",
    "\n",
    "\n",
    "\n"
   ]
  },
  {
   "cell_type": "code",
   "execution_count": null,
   "metadata": {},
   "outputs": [],
   "source": [
    "###Let's see what we got.\n",
    "fig, ax = plt.subplots(1,3,figsize=(16,4))\n",
    "axf=ax.flatten()\n",
    "\n",
    "axf[0].pcolormesh(radardata['x0'],radardata['y0'],hcawinter[0,...],cmap=cmaphidwinter,vmin=0,vmax=7)\n",
    "axf[0].set_title(f'HCA at {z[0]} km')\n",
    "\n",
    "axf[1].pcolormesh(radardata['x0'],radardata['y0'],hcawinter[3,...],cmap=cmaphidwinter,vmin=0,vmax=7)\n",
    "axf[1].set_title(f'HCA at {z[3]} km (melting layer)')\n",
    "\n",
    "c = axf[2].pcolormesh(radardata['x0'],radardata['y0'],hcawinter[6,...],cmap=cmaphidwinter,vmin=0,vmax=7)\n",
    "axf[2].set_title(f'HCA at {z[6]} km')\n",
    "\n",
    "for i in axf:\n",
    "    cb =plt.colorbar(c,ax =i)\n",
    "    cb.set_ticks([1,2,3,4,5,6,7,8,9,10])\n",
    "    cb.set_ticklabels(labelhid)\n",
    "\n"
   ]
  },
  {
   "cell_type": "markdown",
   "metadata": {},
   "source": [
    "# HID \"summer\"\n",
    "Dolan, B., S. A. Rutledge, S. Lim, V. Chandrasekar, and M. Thurai, 2013: A robust C-band hydrometeor identification algorithm and application to a long term polarimetric radar data set. J. Appl. Meteor., 52, 2162-2186.\n",
    "\n",
    "Dolan, B., and S. A. Rutledge, 2009: A theory-based hydrometeor identification algorithm for X-band polarimetric radars. J. Oceanic Atmos. Technol., 46, 1196-1213, 10.1175/2009JTECHA1208.1.\n",
    "\n",
    "\n",
    "#### Cateories:\n",
    "#### 0  = Unclassified\n",
    "#### 1  = Drizzle\n",
    "#### 2  = Rain\n",
    "#### 3  = Dry snow\n",
    "#### 4  = Aggregates\n",
    "#### 5  = Wet Snow\n",
    "#### 6  = Vertical Ice\n",
    "#### 7  = Low-density graupel\n",
    "#### 8  = High-density graupel\n",
    "#### 9 = Hail\n",
    "#### 10 = Big drops / melting hail\n",
    "\n"
   ]
  },
  {
   "cell_type": "code",
   "execution_count": null,
   "metadata": {},
   "outputs": [],
   "source": [
    "##Let's see how the winter compares with the summer.\n",
    "\n",
    "## We will start by using the temperature beta funcitons, and the hybrid scoring method.\n",
    "\n",
    "hid = csu_fhc.csu_fhc_summer(dz=dz, zdr=dr, rho=rh, kdp=kd, use_temp=True,T=radar_T, band=rband,\n",
    "                                verbose=False,use_trap=False,method='hybrid')#,fdir ='/home/bdolan/python/CSU_RadarTools/csu_radartools/beta_function_parameters/')\n",
    "#Use the reflectivity mask\n",
    "hid = np.ma.masked_where(dz.mask,hid)"
   ]
  },
  {
   "cell_type": "code",
   "execution_count": null,
   "metadata": {},
   "outputs": [],
   "source": []
  },
  {
   "cell_type": "code",
   "execution_count": null,
   "metadata": {},
   "outputs": [],
   "source": [
    "###Let's see what we got.\n",
    "fig, ax = plt.subplots(1,3,figsize=(16,4))\n",
    "axf=ax.flatten()\n",
    "\n",
    "axf[0].pcolormesh(radardata['x0'],radardata['y0'],hid[0,...],cmap=cmaphid,vmin=0,vmax=10)\n",
    "axf[0].set_title(f'HID at {z[0]} km')\n",
    "\n",
    "axf[1].pcolormesh(radardata['x0'],radardata['y0'],hid[3,...],cmap=cmaphid,vmin=0,vmax=10)\n",
    "axf[1].set_title(f'HID at {z[3]} km (melting layer)')\n",
    "\n",
    "c = axf[2].pcolormesh(radardata['x0'],radardata['y0'],hid[6,...],cmap=cmaphid,vmin=0,vmax=10)\n",
    "axf[2].set_title(f'HID at {z[6]} km')\n",
    "\n",
    "for i in axf:\n",
    "    cb =plt.colorbar(c,ax =i)\n",
    "    cb.set_ticks([1,2,3,4,5,6,7,8,9,10])\n",
    "    cb.set_ticklabels(labelhid)\n",
    "\n"
   ]
  },
  {
   "cell_type": "code",
   "execution_count": null,
   "metadata": {},
   "outputs": [],
   "source": [
    "###Now what happens if we use the trapazoidal functions and the 'linear' scoring?\n",
    "hidT = csu_fhc.csu_fhc_summer(dz=dz, zdr=dr, rho=rh, kdp=kd, use_temp=True,T=radar_T, band=rband,\n",
    "                                verbose=False,use_trap=True,method='linear')#,fdir ='/home/bdolan/python/CSU_RadarTools/csu_radartools/beta_function_parameters/')\n",
    "\n",
    "\n",
    "#Use the reflectivity mask\n",
    "hidT = np.ma.masked_where(dz.mask,hidT)"
   ]
  },
  {
   "cell_type": "code",
   "execution_count": null,
   "metadata": {},
   "outputs": [],
   "source": [
    "###Let's see what we got.\n",
    "fig, ax = plt.subplots(1,3,figsize=(16,4))\n",
    "axf=ax.flatten()\n",
    "\n",
    "axf[0].pcolormesh(radardata['x0'],radardata['y0'],hidT[0,...],cmap=cmaphid,vmin=0,vmax=10)\n",
    "axf[0].set_title(f'HID at {z[0]} km')\n",
    "\n",
    "axf[1].pcolormesh(radardata['x0'],radardata['y0'],hidT[3,...],cmap=cmaphid,vmin=0,vmax=10)\n",
    "axf[1].set_title(f'HID at {z[3]} km (melting layer)')\n",
    "\n",
    "c = axf[2].pcolormesh(radardata['x0'],radardata['y0'],hidT[6,...],cmap=cmaphid,vmin=0,vmax=10)\n",
    "axf[2].set_title(f'HID at {z[6]} km')\n",
    "\n",
    "for i in axf:\n",
    "    cb =plt.colorbar(c,ax =i)\n",
    "    cb.set_ticks([1,2,3,4,5,6,7,8,9,10])\n",
    "    cb.set_ticklabels(labelhid)\n",
    "\n",
    "plt.suptitle('Trapezoidal T functions')\n"
   ]
  },
  {
   "cell_type": "code",
   "execution_count": null,
   "metadata": {},
   "outputs": [],
   "source": []
  }
 ],
 "metadata": {
  "kernelspec": {
   "display_name": "Python (py37i)",
   "language": "python",
   "name": "py37i"
  },
  "language_info": {
   "codemirror_mode": {
    "name": "ipython",
    "version": 3
   },
   "file_extension": ".py",
   "mimetype": "text/x-python",
   "name": "python",
   "nbconvert_exporter": "python",
   "pygments_lexer": "ipython3",
   "version": "3.6.7"
  }
 },
 "nbformat": 4,
 "nbformat_minor": 4
}
